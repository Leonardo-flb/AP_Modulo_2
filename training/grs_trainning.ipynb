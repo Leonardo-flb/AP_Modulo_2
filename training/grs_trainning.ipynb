{
 "cells": [
  {
   "cell_type": "code",
   "execution_count": 1,
   "id": "7b6f6a0e",
   "metadata": {},
   "outputs": [],
   "source": [
    "import sys\n",
    "from pathlib import Path\n",
    "\n",
    "ROOT = Path().resolve().parent\n",
    "sys.path.append(str(ROOT))"
   ]
  },
  {
   "cell_type": "code",
   "execution_count": 2,
   "id": "1397eea4",
   "metadata": {},
   "outputs": [],
   "source": [
    "import torchvision.transforms as transforms\n",
    "from data_preparation.data_preparation import grs_prepare_data_loaders, visualize_dataset,visualize_class_distribution\n",
    "from models.models_created import CNNLSTM\n",
    "from torchinfo import summary\n",
    "import torch\n",
    "from livelossplot import PlotLosses\n",
    "import torch.nn as nn"
   ]
  },
  {
   "cell_type": "code",
   "execution_count": 3,
   "id": "2a9b584a",
   "metadata": {},
   "outputs": [],
   "source": [
    "PATH_OSATS = \"../data/raw/OSATS.xlsx\"\n",
    "PATH_TRAIN = \"../data/processed/\"\n",
    "BATCH_SIZE = 2"
   ]
  },
  {
   "cell_type": "code",
   "execution_count": 4,
   "id": "f5b0391a",
   "metadata": {},
   "outputs": [],
   "source": [
    "transforms = transforms.Compose([\n",
    "    transforms.CenterCrop(760),\n",
    "    transforms.Resize(224),\n",
    "    transforms.ToTensor(),\n",
    "    transforms.Normalize(  # Normalize using ImageNet statistics\n",
    "        mean=[0.485, 0.456, 0.406],\n",
    "        std=[0.229, 0.224, 0.225]\n",
    "    )\n",
    "])"
   ]
  },
  {
   "cell_type": "code",
   "execution_count": 5,
   "id": "37131a8f",
   "metadata": {},
   "outputs": [],
   "source": [
    "train_dl, val_dl, test_dl, train_dl_all, val_dl_all, test_dl_all = grs_prepare_data_loaders(0.70, PATH_TRAIN, PATH_OSATS,transforms=transforms, batch_size=BATCH_SIZE)"
   ]
  },
  {
   "cell_type": "code",
   "execution_count": 6,
   "id": "ee2ca25c",
   "metadata": {},
   "outputs": [
    {
     "name": "stdout",
     "output_type": "stream",
     "text": [
      "Casos de Treino: 42\n",
      "Casos de Validação: 6\n",
      "Casos de Teste: 12\n",
      "(TREINO) Shape tensor batch -> input: torch.Size([2, 600, 3, 224, 224]), output: torch.Size([2])\n",
      "(VAL) Shape tensor batch -> input: torch.Size([2, 600, 3, 224, 224]), output: torch.Size([2])\n",
      "(TESTE) Shape tensor batch -> input: torch.Size([2, 600, 3, 224, 224]), output: torch.Size([2])\n",
      "Valor maximo:2.640000104904175 Valor mínimo:-2.1179039478302\n"
     ]
    }
   ],
   "source": [
    "visualize_dataset(train_dl, test_dl, val_dl)"
   ]
  },
  {
   "cell_type": "code",
   "execution_count": 7,
   "id": "ec1bf197",
   "metadata": {},
   "outputs": [
    {
     "name": "stdout",
     "output_type": "stream",
     "text": [
      "helllo\n",
      "Distribuição de classes (GRS):\n",
      "Novice       | Train:  15 | Val:   2 | Test:   4\n",
      "Intermediate | Train:   9 | Val:   1 | Test:   2\n",
      "Proficient   | Train:  15 | Val:   1 | Test:   4\n",
      "Specialist   | Train:   1 | Val:   1 | Test:   2\n"
     ]
    }
   ],
   "source": [
    "visualize_class_distribution(train_dl_all, test_dl_all,val_dl_all,plot=False)"
   ]
  },
  {
   "cell_type": "code",
   "execution_count": 7,
   "id": "4cf214d6",
   "metadata": {},
   "outputs": [
    {
     "name": "stdout",
     "output_type": "stream",
     "text": [
      "===============================================================================================\n",
      "Layer (type:depth-idx)                        Output Shape              Param #\n",
      "===============================================================================================\n",
      "CNNLSTM                                       [2, 4]                    --\n",
      "├─Sequential: 1-1                             [8, 512, 1, 1]            --\n",
      "│    └─Conv2d: 2-1                            [8, 64, 112, 112]         9,408\n",
      "│    └─BatchNorm2d: 2-2                       [8, 64, 112, 112]         128\n",
      "│    └─ReLU: 2-3                              [8, 64, 112, 112]         --\n",
      "│    └─MaxPool2d: 2-4                         [8, 64, 56, 56]           --\n",
      "│    └─Sequential: 2-5                        [8, 64, 56, 56]           --\n",
      "│    │    └─BasicBlock: 3-1                   [8, 64, 56, 56]           73,984\n",
      "│    │    └─BasicBlock: 3-2                   [8, 64, 56, 56]           73,984\n",
      "│    └─Sequential: 2-6                        [8, 128, 28, 28]          --\n",
      "│    │    └─BasicBlock: 3-3                   [8, 128, 28, 28]          230,144\n",
      "│    │    └─BasicBlock: 3-4                   [8, 128, 28, 28]          295,424\n",
      "│    └─Sequential: 2-7                        [8, 256, 14, 14]          --\n",
      "│    │    └─BasicBlock: 3-5                   [8, 256, 14, 14]          919,040\n",
      "│    │    └─BasicBlock: 3-6                   [8, 256, 14, 14]          1,180,672\n",
      "│    └─Sequential: 2-8                        [8, 512, 7, 7]            --\n",
      "│    │    └─BasicBlock: 3-7                   [8, 512, 7, 7]            3,673,088\n",
      "│    │    └─BasicBlock: 3-8                   [8, 512, 7, 7]            4,720,640\n",
      "│    └─AdaptiveAvgPool2d: 2-9                 [8, 512, 1, 1]            --\n",
      "├─LSTM: 1-2                                   [2, 4, 256]               788,480\n",
      "├─Linear: 1-3                                 [2, 4]                    1,028\n",
      "===============================================================================================\n",
      "Total params: 11,966,020\n",
      "Trainable params: 11,966,020\n",
      "Non-trainable params: 0\n",
      "Total mult-adds (Units.GIGABYTES): 14.51\n",
      "===============================================================================================\n",
      "Input size (MB): 4.82\n",
      "Forward/backward pass size (MB): 317.93\n",
      "Params size (MB): 47.86\n",
      "Estimated Total Size (MB): 370.61\n",
      "===============================================================================================\n"
     ]
    }
   ],
   "source": [
    "model = CNNLSTM()\n",
    "print(summary(model, input_size=(BATCH_SIZE, 4, 3,224,224), verbose=0))"
   ]
  },
  {
   "cell_type": "code",
   "execution_count": 8,
   "id": "ea457b28",
   "metadata": {},
   "outputs": [],
   "source": [
    "\n",
    "def train_model(h5_file, train_dl, val_dl, model, criterion, optimizer,device='cpu'):\n",
    "    liveloss = PlotLosses()\n",
    "    \n",
    "    for epoch in range(EPOCHS):\n",
    "        logs = {}\n",
    "\n",
    "        # ---------- Treino ----------\n",
    "        model.train()\n",
    "        running_loss = 0.0\n",
    "        running_corrects = 0\n",
    "\n",
    "        for inputs, labels in train_dl:\n",
    "            inputs = inputs.to(device)        # [B, T, C, H, W]\n",
    "            labels = labels.to(device)        # [B]\n",
    "\n",
    "            outputs = model(inputs)           # [B, num_classes]\n",
    "            loss = criterion(outputs, labels)\n",
    "\n",
    "            optimizer.zero_grad()\n",
    "            loss.backward()\n",
    "            optimizer.step()\n",
    "\n",
    "            running_loss += loss.item() * inputs.size(0)\n",
    "            _, preds = torch.max(outputs, 1)\n",
    "            running_corrects += (preds == labels).sum().item()\n",
    "\n",
    "        epoch_loss = running_loss / len(train_dl.dataset)\n",
    "        epoch_acc = running_corrects / len(train_dl.dataset)\n",
    "\n",
    "        logs['loss'] = epoch_loss\n",
    "        logs['accuracy'] = epoch_acc\n",
    "\n",
    "        # ---------- Validação ----------\n",
    "        model.eval()\n",
    "        val_loss = 0.0\n",
    "        val_corrects = 0\n",
    "\n",
    "        with torch.no_grad():\n",
    "            for inputs, labels in val_dl:\n",
    "                inputs = inputs.to(device)\n",
    "                labels = labels.to(device)\n",
    "\n",
    "                outputs = model(inputs)\n",
    "                loss = criterion(outputs, labels)\n",
    "\n",
    "                val_loss += loss.item() * inputs.size(0)\n",
    "                _, preds = torch.max(outputs, 1)\n",
    "                val_corrects += (preds == labels).sum().item()\n",
    "\n",
    "        epoch_val_loss = val_loss / len(val_dl.dataset)\n",
    "        epoch_val_acc = val_corrects / len(val_dl.dataset)\n",
    "\n",
    "        logs['val_loss'] = epoch_val_loss\n",
    "        logs['val_accuracy'] = epoch_val_acc\n",
    "\n",
    "        liveloss.update(logs)\n",
    "        liveloss.send()\n",
    "\n",
    "    torch.save(model, h5_file)"
   ]
  },
  {
   "cell_type": "code",
   "execution_count": 9,
   "id": "89c41b88",
   "metadata": {},
   "outputs": [],
   "source": [
    "EPOCHS = 20\n",
    "CRITERION = nn.CrossEntropyLoss()\n",
    "LEARNING_RATE = 0.001\n",
    "OPTIMIZER = torch.optim.Adam(model.parameters(), LEARNING_RATE)"
   ]
  },
  {
   "cell_type": "code",
   "execution_count": null,
   "id": "7f8837f8",
   "metadata": {},
   "outputs": [],
   "source": [
    "train_model(\n",
    "    h5_file=\"../models/CNNLSTM.pth\",\n",
    "    train_dl=train_dl,\n",
    "    val_dl=val_dl,\n",
    "    model=model,\n",
    "    criterion=CRITERION,\n",
    "    optimizer=OPTIMIZER\n",
    ")"
   ]
  }
 ],
 "metadata": {
  "kernelspec": {
   "display_name": "AP",
   "language": "python",
   "name": "python3"
  },
  "language_info": {
   "codemirror_mode": {
    "name": "ipython",
    "version": 3
   },
   "file_extension": ".py",
   "mimetype": "text/x-python",
   "name": "python",
   "nbconvert_exporter": "python",
   "pygments_lexer": "ipython3",
   "version": "3.12.4"
  }
 },
 "nbformat": 4,
 "nbformat_minor": 5
}
