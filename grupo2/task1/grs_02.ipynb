{
 "cells": [
  {
   "cell_type": "markdown",
   "id": "71f9a124-ac3a-4b02-98bc-1b4db9e59a07",
   "metadata": {},
   "source": [
    "# Task 1: Predict the global rating score\n",
    "\n",
    "In this notebook, we will use the files provided by the teacher \"numpy_files\".\n",
    "\n",
    "Data is stored in tensors (T,F,H,L) where:\n",
    "\n",
    "    - T. Number of frames \n",
    "    - F. Number of feature maps\n",
    "    - H,L. Feature map dimension\n",
    "\n",
    "The proposed architecture will be very similar, changing only the convolutional network part,"
   ]
  },
  {
   "cell_type": "markdown",
   "id": "fe9bec7b-cb25-4f2a-bdcb-531cdec0349f",
   "metadata": {},
   "source": [
    "### 1. Inicialization"
   ]
  },
  {
   "cell_type": "code",
   "execution_count": 34,
   "id": "27cdc86d",
   "metadata": {},
   "outputs": [],
   "source": [
    "# Imports\n",
    "import os\n",
    "import random\n",
    "import pandas as pd\n",
    "import numpy as np\n",
    "import matplotlib.pyplot as plt\n",
    "import seaborn as sns\n",
    "\n",
    "\n",
    "import torch\n",
    "import torch.nn as nn\n",
    "import torchvision.transforms as transforms\n",
    "\n",
    "from torch import Tensor\n",
    "from torch.nn import Sequential, Linear, ReLU, LSTM, Module, Conv1d\n",
    "from torch.nn import Conv2d, BatchNorm2d, AdaptiveAvgPool2d, Flatten, Dropout\n",
    "from torch.utils.data import Dataset\n",
    "from torch.utils.data import DataLoader\n",
    "from torch.utils.data import random_split\n",
    "from torch.utils.data import Subset\n",
    "from torch.nn import CrossEntropyLoss\n",
    "from torch.optim import Adam\n",
    "from torch.optim.lr_scheduler import ReduceLROnPlateau\n",
    "\n",
    "from sklearn.metrics import f1_score, confusion_matrix\n",
    "from sklearn.model_selection import StratifiedShuffleSplit\n",
    "from livelossplot import PlotLosses\n",
    "\n",
    "from collections import Counter"
   ]
  },
  {
   "cell_type": "code",
   "execution_count": 2,
   "id": "500f9a04-7778-4328-97bc-34b2af21c106",
   "metadata": {},
   "outputs": [
    {
     "name": "stdout",
     "output_type": "stream",
     "text": [
      "cuda\n"
     ]
    }
   ],
   "source": [
    "# GPU\n",
    "device = torch.device(\"cuda\" if torch.cuda.is_available() else \"cpu\")\n",
    "\n",
    "def get_default_device():\n",
    "    if torch.cuda.is_available():\n",
    "        return torch.device('cuda')\n",
    "    else:\n",
    "        return torch.device('cpu')\n",
    "\n",
    "def to_device(data, device):\n",
    "    if isinstance(data, (list,tuple)):\n",
    "        return [to_device(x, device) for x in data]\n",
    "    return data.to(device, non_blocking=True)\n",
    "\n",
    "class DeviceDataLoader():\n",
    "    def __init__(self, dl, device):\n",
    "        self.dl = dl\n",
    "        self.device = device\n",
    "        \n",
    "    def __iter__(self):\n",
    "         for b in self.dl: \n",
    "            yield to_device(b, self.device)\n",
    "\n",
    "    def __len__(self):\n",
    "        return len(self.dl)\n",
    "\n",
    "device = get_default_device()   \n",
    "print(device)"
   ]
  },
  {
   "cell_type": "code",
   "execution_count": 16,
   "id": "9bddcf7d",
   "metadata": {},
   "outputs": [],
   "source": [
    "# Contants \n",
    "PATH_TRAIN_OSATS = \"../../OSS_dataset/Train/OSATS.csv\"\n",
    "PATH_TRAIN = \"../../OSS_dataset/Train/numpy_files/\"\n",
    "PATH_TRAIN_VIDEOS = \"../../OSS_dataset/Train/videos/\"\n",
    "\n",
    "OUTPUT_FOLDER = \"./results/\""
   ]
  },
  {
   "cell_type": "code",
   "execution_count": 4,
   "id": "74be1ecd-dbe8-4ea4-9513-919e9dee33d4",
   "metadata": {},
   "outputs": [],
   "source": [
    "BATCH_SIZE = 16"
   ]
  },
  {
   "cell_type": "code",
   "execution_count": 5,
   "id": "dee2f1d4",
   "metadata": {},
   "outputs": [],
   "source": [
    "SEED = 42\n",
    "\n",
    "torch.manual_seed(SEED)\n",
    "np.random.seed(SEED)\n",
    "random.seed(SEED)"
   ]
  },
  {
   "cell_type": "markdown",
   "id": "a3d8fdfc",
   "metadata": {},
   "source": [
    "### 2. Data Preparation "
   ]
  },
  {
   "cell_type": "code",
   "execution_count": 6,
   "id": "730a6c6a-8475-4dc8-9a23-b2c29f1c65d7",
   "metadata": {},
   "outputs": [
    {
     "data": {
      "text/html": [
       "<div>\n",
       "<style scoped>\n",
       "    .dataframe tbody tr th:only-of-type {\n",
       "        vertical-align: middle;\n",
       "    }\n",
       "\n",
       "    .dataframe tbody tr th {\n",
       "        vertical-align: top;\n",
       "    }\n",
       "\n",
       "    .dataframe thead th {\n",
       "        text-align: right;\n",
       "    }\n",
       "</style>\n",
       "<table border=\"1\" class=\"dataframe\">\n",
       "  <thead>\n",
       "    <tr style=\"text-align: right;\">\n",
       "      <th></th>\n",
       "      <th>STUDENT</th>\n",
       "      <th>GROUP</th>\n",
       "      <th>TIME</th>\n",
       "      <th>SUTURES</th>\n",
       "      <th>INVESTIGATOR</th>\n",
       "      <th>VIDEO</th>\n",
       "      <th>OSATS_RESPECT</th>\n",
       "      <th>OSATS_MOTION</th>\n",
       "      <th>OSATS_INSTRUMENT</th>\n",
       "      <th>OSATS_SUTURE</th>\n",
       "      <th>OSATS_FLOW</th>\n",
       "      <th>OSATS_KNOWLEDGE</th>\n",
       "      <th>OSATS_PERFORMANCE</th>\n",
       "      <th>OSATS_FINAL_QUALITY</th>\n",
       "      <th>GLOBA_RATING_SCORE</th>\n",
       "    </tr>\n",
       "  </thead>\n",
       "  <tbody>\n",
       "    <tr>\n",
       "      <th>0</th>\n",
       "      <td>AHO729</td>\n",
       "      <td>E-LEARNING</td>\n",
       "      <td>PRE</td>\n",
       "      <td>1</td>\n",
       "      <td>A</td>\n",
       "      <td>P54M</td>\n",
       "      <td>2</td>\n",
       "      <td>1</td>\n",
       "      <td>2</td>\n",
       "      <td>2</td>\n",
       "      <td>1</td>\n",
       "      <td>2</td>\n",
       "      <td>2</td>\n",
       "      <td>1</td>\n",
       "      <td>13</td>\n",
       "    </tr>\n",
       "    <tr>\n",
       "      <th>1</th>\n",
       "      <td>AHO729</td>\n",
       "      <td>E-LEARNING</td>\n",
       "      <td>PRE</td>\n",
       "      <td>1</td>\n",
       "      <td>B</td>\n",
       "      <td>P54M</td>\n",
       "      <td>2</td>\n",
       "      <td>1</td>\n",
       "      <td>3</td>\n",
       "      <td>1</td>\n",
       "      <td>2</td>\n",
       "      <td>1</td>\n",
       "      <td>2</td>\n",
       "      <td>1</td>\n",
       "      <td>13</td>\n",
       "    </tr>\n",
       "    <tr>\n",
       "      <th>2</th>\n",
       "      <td>AHO729</td>\n",
       "      <td>E-LEARNING</td>\n",
       "      <td>PRE</td>\n",
       "      <td>1</td>\n",
       "      <td>C</td>\n",
       "      <td>P54M</td>\n",
       "      <td>2</td>\n",
       "      <td>1</td>\n",
       "      <td>1</td>\n",
       "      <td>1</td>\n",
       "      <td>1</td>\n",
       "      <td>1</td>\n",
       "      <td>1</td>\n",
       "      <td>1</td>\n",
       "      <td>9</td>\n",
       "    </tr>\n",
       "    <tr>\n",
       "      <th>3</th>\n",
       "      <td>AHO729</td>\n",
       "      <td>E-LEARNING</td>\n",
       "      <td>POST</td>\n",
       "      <td>4,5</td>\n",
       "      <td>A</td>\n",
       "      <td>M45P</td>\n",
       "      <td>4</td>\n",
       "      <td>4</td>\n",
       "      <td>4</td>\n",
       "      <td>3</td>\n",
       "      <td>3</td>\n",
       "      <td>4</td>\n",
       "      <td>3</td>\n",
       "      <td>3</td>\n",
       "      <td>28</td>\n",
       "    </tr>\n",
       "    <tr>\n",
       "      <th>4</th>\n",
       "      <td>AHO729</td>\n",
       "      <td>E-LEARNING</td>\n",
       "      <td>POST</td>\n",
       "      <td>4,5</td>\n",
       "      <td>B</td>\n",
       "      <td>M45P</td>\n",
       "      <td>2</td>\n",
       "      <td>3</td>\n",
       "      <td>4</td>\n",
       "      <td>3</td>\n",
       "      <td>3</td>\n",
       "      <td>4</td>\n",
       "      <td>3</td>\n",
       "      <td>3</td>\n",
       "      <td>25</td>\n",
       "    </tr>\n",
       "  </tbody>\n",
       "</table>\n",
       "</div>"
      ],
      "text/plain": [
       "  STUDENT       GROUP  TIME SUTURES INVESTIGATOR VIDEO  OSATS_RESPECT  \\\n",
       "0  AHO729  E-LEARNING   PRE       1            A  P54M              2   \n",
       "1  AHO729  E-LEARNING   PRE       1            B  P54M              2   \n",
       "2  AHO729  E-LEARNING   PRE       1            C  P54M              2   \n",
       "3  AHO729  E-LEARNING  POST     4,5            A  M45P              4   \n",
       "4  AHO729  E-LEARNING  POST     4,5            B  M45P              2   \n",
       "\n",
       "   OSATS_MOTION  OSATS_INSTRUMENT  OSATS_SUTURE  OSATS_FLOW  OSATS_KNOWLEDGE  \\\n",
       "0             1                 2             2           1                2   \n",
       "1             1                 3             1           2                1   \n",
       "2             1                 1             1           1                1   \n",
       "3             4                 4             3           3                4   \n",
       "4             3                 4             3           3                4   \n",
       "\n",
       "   OSATS_PERFORMANCE  OSATS_FINAL_QUALITY  GLOBA_RATING_SCORE  \n",
       "0                  2                    1                  13  \n",
       "1                  2                    1                  13  \n",
       "2                  1                    1                   9  \n",
       "3                  3                    3                  28  \n",
       "4                  3                    3                  25  "
      ]
     },
     "execution_count": 6,
     "metadata": {},
     "output_type": "execute_result"
    }
   ],
   "source": [
    "df = pd.read_csv(PATH_TRAIN_OSATS, sep=';')\n",
    "df.head()"
   ]
  },
  {
   "cell_type": "code",
   "execution_count": 7,
   "id": "95a25930",
   "metadata": {},
   "outputs": [],
   "source": [
    "class GRSDataset(Dataset):\n",
    "    def __init__(self, path_data, path_label, num_frames=300, transforms=None):\n",
    "        self.num_frames = num_frames\n",
    "        self.transforms = transforms\n",
    "\n",
    "        osats = pd.read_csv(path_label, sep = ';')\n",
    "        self.labels = (\n",
    "            osats.groupby(\"VIDEO\")[\"GLOBA_RATING_SCORE\"]\n",
    "            .mean()\n",
    "            .round()\n",
    "            .apply(self.grs_to_class)\n",
    "            .to_dict()\n",
    "        )\n",
    "\n",
    "        self.videos = {\n",
    "            f.replace(\".npz\", \"\"): os.path.join(path_data, f)\n",
    "            for f in os.listdir(path_data)\n",
    "            if f.endswith(\".npz\") and f.replace(\".npz\", \"\") in self.labels\n",
    "        }\n",
    "\n",
    "    def __len__(self):\n",
    "        return len(self.videos)\n",
    "\n",
    "    def __getitem__(self, idx):\n",
    "        video_name = list(self.videos.keys())[idx]\n",
    "        path = self.videos[video_name]\n",
    "        \n",
    "        data = np.load(path)\n",
    "        video = data[\"video\"]  # (T, F, H, L)\n",
    "        label = self.labels[video_name]\n",
    "    \n",
    "        T = video.shape[0]\n",
    "        if T >= self.num_frames:\n",
    "            video = video[:self.num_frames]\n",
    "        else:\n",
    "            pad = np.repeat(video[-1][None, :, :, :], self.num_frames - T, axis=0)\n",
    "            video = np.concatenate([video, pad], axis=0)\n",
    "    \n",
    "        video_tensor = torch.tensor(video, dtype=torch.float32)\n",
    "    \n",
    "        if self.transforms:\n",
    "            video_tensor = self.transforms(video_tensor)\n",
    "    \n",
    "        return video_tensor, torch.tensor(label, dtype=torch.long)\n",
    "\n",
    "    @staticmethod\n",
    "    def grs_to_class(grs):\n",
    "        if 8 <= grs <= 15:\n",
    "            return 0  # novice\n",
    "        elif 16 <= grs <= 23:\n",
    "            return 1  # intermediate\n",
    "        elif 24 <= grs <= 31:\n",
    "            return 2  # proeficient\n",
    "        elif 32 <= grs <= 40:\n",
    "            return 3  # specialist\n",
    "        else:\n",
    "            return -1  # GRS not in range"
   ]
  },
  {
   "cell_type": "code",
   "execution_count": null,
   "id": "acd2fddb",
   "metadata": {},
   "outputs": [],
   "source": [
    "def grs_prepare_data_loaders(test = 0.2, val = 0.1, transforms=None):\n",
    "    generator = torch.Generator().manual_seed(SEED)\n",
    "\n",
    "    full_dataset = GRSDataset( path_data=PATH_TRAIN, path_label=PATH_TRAIN_OSATS, transforms=transforms)\n",
    "    #test_dataset = GRSDataset( path_data=PATH_TEST_REDUCED, path_label=PATH_TEST_OSATS, transforms=transforms)\n",
    "\n",
    "    total_len = len(full_dataset)\n",
    "    val_size = int(val * total_len)\n",
    "    test_size = int(test * total_len)\n",
    "    train_size = total_len - val_size - test_size\n",
    "\n",
    "    train_dataset, val_dataset, test_dataset = random_split(full_dataset, [train_size, val_size, test_size], generator=generator)\n",
    "    \n",
    "    # DataLoaders \n",
    "    train_dl = DataLoader(train_dataset, batch_size=BATCH_SIZE, shuffle=True)\n",
    "    val_dl   = DataLoader(val_dataset, batch_size=BATCH_SIZE, shuffle=False)\n",
    "    test_dl  = DataLoader(test_dataset, batch_size=BATCH_SIZE, shuffle=False)\n",
    "\n",
    "    # DataLoaders without Batching\n",
    "    train_dl_all = DataLoader(train_dataset, batch_size=len(train_dataset), shuffle=False)\n",
    "    val_dl_all   = DataLoader(val_dataset, batch_size=len(val_dataset), shuffle=False)\n",
    "    test_dl_all  = DataLoader(test_dataset, batch_size=len(test_dataset), shuffle=False)\n",
    "\n",
    "    return train_dl, val_dl, test_dl, train_dl_all, val_dl_all, test_dl_all\n"
   ]
  },
  {
   "cell_type": "code",
   "execution_count": null,
   "id": "d355415e-13d7-41ab-8d98-e202491b9e47",
   "metadata": {},
   "outputs": [],
   "source": [
    "# Not used, but kept for reference\n",
    "feature_transforms = transforms.Compose([\n",
    "    transforms.Lambda(lambda x: (x - x.min()) / (x.max() - x.min() + 1e-6))\n",
    "])"
   ]
  },
  {
   "cell_type": "code",
   "execution_count": 25,
   "id": "90e24297",
   "metadata": {},
   "outputs": [],
   "source": [
    "train_dl, val_dl, test_dl, train_dl_all, val_dl_all, test_dl_all = grs_prepare_data_loaders()"
   ]
  },
  {
   "cell_type": "markdown",
   "id": "97d9796e",
   "metadata": {},
   "source": [
    "#### 2.1 Visualize Data"
   ]
  },
  {
   "cell_type": "code",
   "execution_count": 26,
   "id": "aa98938b",
   "metadata": {},
   "outputs": [],
   "source": [
    "def visualize_dataset(train, test, val):\n",
    "    print(f\"Casos de Treino: {len(train.dataset)}\")\n",
    "    print(f\"Casos de Validação: {len(val.dataset)}\")\n",
    "    print(f\"Casos de Teste: {len(test.dataset)}\")\n",
    "\n",
    "    x, y = next(iter(train)) \n",
    "    print(f\"(TREINO) Shape tensor batch -> input: {x.shape}, output: {y.shape}\")\n",
    "\n",
    "    x, y = next(iter(val)) \n",
    "    print(f\"(VAL) Shape tensor batch -> input: {x.shape}, output: {y.shape}\")\n",
    "\n",
    "    x, y = next(iter(test))\n",
    "    print(f\"(TESTE) Shape tensor batch -> input: {x.shape}, output: {y.shape}\")\n",
    "\n",
    "    print(f'Valor maximo:{torch.max(x)} Valor mínimo:{torch.min(x)}')\n"
   ]
  },
  {
   "cell_type": "code",
   "execution_count": 27,
   "id": "e68dd875",
   "metadata": {},
   "outputs": [
    {
     "name": "stdout",
     "output_type": "stream",
     "text": [
      "Casos de Treino: 221\n",
      "Casos de Validação: 31\n",
      "Casos de Teste: 62\n",
      "(TREINO) Shape tensor batch -> input: torch.Size([16, 300, 384, 20, 20]), output: torch.Size([16])\n",
      "(VAL) Shape tensor batch -> input: torch.Size([16, 300, 384, 20, 20]), output: torch.Size([16])\n",
      "(TESTE) Shape tensor batch -> input: torch.Size([16, 300, 384, 20, 20]), output: torch.Size([16])\n",
      "Valor maximo:7.417194366455078 Valor mínimo:-0.27846458554267883\n"
     ]
    }
   ],
   "source": [
    "visualize_dataset(train_dl, test_dl, val_dl)"
   ]
  },
  {
   "cell_type": "code",
   "execution_count": null,
   "id": "771ef7ea",
   "metadata": {},
   "outputs": [],
   "source": [
    "def plot_class_distribution(train, test, val, class_names=None):\n",
    "    def get_class_counts(loader):\n",
    "        dataset = loader.dataset  # Subset\n",
    "        counter = Counter()\n",
    "        for _, label in dataset:\n",
    "            counter[int(label)] += 1\n",
    "        return counter\n",
    "\n",
    "    train_counts = get_class_counts(train)\n",
    "    test_counts  = get_class_counts(test)\n",
    "    val_counts   = get_class_counts(val)\n",
    "\n",
    "    all_classes = sorted(set(train_counts) | set(test_counts) | set(val_counts))\n",
    "    if class_names is None:\n",
    "        class_names = [str(c) for c in all_classes]\n",
    "\n",
    "    train_vals = [train_counts.get(c, 0) for c in all_classes]\n",
    "    test_vals  = [test_counts.get(c, 0) for c in all_classes]\n",
    "    val_vals   = [val_counts.get(c, 0) for c in all_classes]\n",
    "\n",
    "    x = range(len(all_classes))\n",
    "    bar_width = 0.25\n",
    "\n",
    "    plt.figure(figsize=(8, 5))\n",
    "    plt.bar([i - bar_width for i in x], train_vals, width=bar_width, label='Treino')\n",
    "    plt.bar(x, test_vals, width=bar_width, label='Teste')\n",
    "    plt.bar([i + bar_width for i in x], val_vals, width=bar_width, label='Validação')\n",
    "\n",
    "    plt.xlabel('Classe')\n",
    "    plt.ylabel('Número de exemplos')\n",
    "    plt.title('Distribuição de classes por conjunto')\n",
    "    plt.xticks(ticks=x, labels=class_names)\n",
    "    plt.legend()\n",
    "    plt.tight_layout()\n",
    "    plt.show()"
   ]
  },
  {
   "cell_type": "code",
   "execution_count": 33,
   "id": "e0a6b6c9",
   "metadata": {},
   "outputs": [
    {
     "name": "stdout",
     "output_type": "stream",
     "text": [
      "alo\n",
      "alooo\n",
      "alooo\n",
      "alooo\n"
     ]
    },
    {
     "data": {
      "image/png": "[encoded data removed]",
      "text/plain": [
       "<Figure size 800x500 with 1 Axes>"
      ]
     },
     "metadata": {},
     "output_type": "display_data"
    }
   ],
   "source": [
    "plot_class_distribution(train_dl, test_dl, val_dl, class_names=['Novice', 'Intermediate', 'Proficient', 'Specialist'])"
   ]
  },
  {
   "cell_type": "markdown",
   "id": "1c7f1d6a-7ce7-46b8-8b3c-1ce9b5ab9b93",
   "metadata": {},
   "source": [
    "### 3. Model"
   ]
  },
  {
   "cell_type": "markdown",
   "id": "c1339958-4622-4b5f-a8cd-245f43856c60",
   "metadata": {},
   "source": [
    "#### Architecture\n",
    "- **2D Convolutional Encoder**:\n",
    "  - Applies two `Conv2d` layers on inputs of shape `(B, 384, 20, 20)`, each followed by ReLU.\n",
    "  - Uses `BatchNorm2d` after each convolution to stabilize and accelerate training.\n",
    "  - Applies `AdaptiveAvgPool2d((1, 1))` and `Flatten()` to produce a compact feature vector of shape `(B, 64)` per frame.\n",
    "\n",
    "- **LSTM-clip**:\n",
    "  - First LSTM layer that processes the short-range temporal patterns learned by the encoder.\n",
    "  - Maintains the sequence structure: `(B, T, hidden_clip)`\n",
    "\n",
    "- **LSTM-video**:\n",
    "  - Learns long-range temporal dependencies across the entire video.\n",
    "  - Output remains a sequence: `(B, T, hidden_video)`\n",
    "\n",
    "- **LSTM-final**:\n",
    "  - Refines the representation with another LSTM pass.\n",
    "  - Only the output of the **last timestep** is retained for classification: `(B, hidden_final)`\n",
    "\n",
    "- **Fully Connected Layer**:\n",
    "  - Maps the final LSTM representation to GRS class logits: `(B, num_classes)`\n",
    "\n",
    "#### Input Format\n",
    "- Expected input shape: `(batch_size, num_frames, 384, 20, 20)`\n",
    "- Example: a video of 300 frames, each with 384- feature map of dimencion 20x20\n",
    "\n",
    "#### Output\n",
    "- Class logits corresponding to the 4 GRS categories: `[Novice, Intermediate, Proficient, Specialist]`\n"
   ]
  },
  {
   "cell_type": "code",
   "execution_count": null,
   "id": "83b282ab-6992-46ab-ba54-a20b38076242",
   "metadata": {},
   "outputs": [],
   "source": [
    "class GRSModel_02(Module):\n",
    "    def __init__(self, num_classes=4):\n",
    "        super().__init__()\n",
    "\n",
    "        # Encoder CNN\n",
    "        self.frame_encoder = Sequential(\n",
    "            Conv2d(384, 128, kernel_size=3, padding=1),\n",
    "            BatchNorm2d(128),\n",
    "            ReLU(),\n",
    "\n",
    "            Conv2d(128, 64, kernel_size=3, padding=1),\n",
    "            BatchNorm2d(64),\n",
    "            ReLU(),\n",
    "\n",
    "            AdaptiveAvgPool2d((1, 1)),  # → (B, 64, 1, 1)\n",
    "            Flatten()  # → (B, 64)\n",
    "        )\n",
    "\n",
    "        # cascade LSTMs\n",
    "        self.lstm_clip = LSTM(input_size=64, hidden_size=64, batch_first=True)\n",
    "        self.lstm_video = LSTM(input_size=64, hidden_size=128, batch_first=True)\n",
    "        self.lstm_final = LSTM(input_size=128, hidden_size=64, batch_first=True)\n",
    "\n",
    "        # Final classificator\n",
    "        self.classifier = Sequential(\n",
    "            Dropout(0.3),\n",
    "            Linear(64, num_classes)\n",
    "        )\n",
    "\n",
    "    def forward(self, x):  # x: (B, T, C, H, W)\n",
    "        B, T, C, H, W = x.shape\n",
    "        x = x.reshape(B * T, C, H, W)         \n",
    "        x = self.frame_encoder(x)              # (B*T, 64)\n",
    "        x = x.reshape(B, T, -1)                # (B, T, 64)\n",
    "\n",
    "        x, _ = self.lstm_clip(x)\n",
    "        x, _ = self.lstm_video(x)\n",
    "        x, _ = self.lstm_final(x)\n",
    "\n",
    "        return self.classifier(x[:, -1, :])   "
   ]
  },
  {
   "cell_type": "code",
   "execution_count": 36,
   "id": "dffa46c8-882c-47cc-897d-284ff4f8bfca",
   "metadata": {},
   "outputs": [],
   "source": [
    "model = GRSModel_02().to(device)"
   ]
  },
  {
   "cell_type": "markdown",
   "id": "4045aa30-d2aa-4ae3-a58c-10a502a4f9c9",
   "metadata": {},
   "source": [
    "### 4. Model Trainning"
   ]
  },
  {
   "cell_type": "code",
   "execution_count": null,
   "id": "4cd1868f-78e5-4034-aeba-ab642f7e42aa",
   "metadata": {},
   "outputs": [],
   "source": [
    "#not implemented\n",
    "class EarlyStopping:\n",
    "    def __init__(self, patience=3, delta=0.0, verbose=True, path='best_model.pth'):\n",
    "        self.patience = patience\n",
    "        self.delta = delta\n",
    "        self.counter = 0\n",
    "        self.best_loss = None\n",
    "        self.early_stop = False\n",
    "        self.verbose = verbose\n",
    "        self.path = path\n",
    "        self.best_model_state = None\n",
    "\n",
    "    def __call__(self, val_loss, model):\n",
    "        if self.best_loss is None or val_loss < self.best_loss - self.delta:\n",
    "            self.best_loss = val_loss\n",
    "            self.counter = 0\n",
    "            self.best_model_state = model.state_dict()\n",
    "            if self.verbose:\n",
    "                print(f\"Validation loss improved. Saving model...\")\n",
    "        else:\n",
    "            self.counter += 1\n",
    "            if self.verbose:\n",
    "                print(f\"EarlyStopping counter: {self.counter}/{self.patience}\")\n",
    "            if self.counter >= self.patience:\n",
    "                self.early_stop = True\n"
   ]
  },
  {
   "cell_type": "code",
   "execution_count": null,
   "id": "776a5f80-9f56-4662-82dd-4bd0cc8a4792",
   "metadata": {},
   "outputs": [],
   "source": [
    "def train_model(model, model_path, train_dl, val_dl, criterion, optimizer, scheduler=None, device='cpu', num_epochs=20):\n",
    "    liveloss = PlotLosses()\n",
    "\n",
    "    for epoch in range(num_epochs):\n",
    "        logs = {}\n",
    "\n",
    "        # ---------- Trainnig ----------\n",
    "        model.train()\n",
    "        train_loss = 0.0\n",
    "        train_corrects = 0\n",
    "\n",
    "        for inputs, labels in train_dl:\n",
    "            inputs = inputs.to(device)     # [B, T, F]\n",
    "            labels = labels.to(device)     # [B]\n",
    "\n",
    "            optimizer.zero_grad()\n",
    "            outputs = model(inputs)        # [B, num_classes]\n",
    "            loss = criterion(outputs, labels)\n",
    "            loss.backward()\n",
    "            optimizer.step()\n",
    "\n",
    "            train_loss += loss.item() * inputs.size(0)\n",
    "            _, preds = torch.max(outputs, 1)\n",
    "            train_corrects += (preds == labels).sum().item()\n",
    "\n",
    "        epoch_train_loss = train_loss / len(train_dl.dataset)\n",
    "        epoch_train_acc = train_corrects / len(train_dl.dataset)\n",
    "\n",
    "        logs['loss'] = epoch_train_loss\n",
    "        logs['accuracy'] = epoch_train_acc\n",
    "\n",
    "        # ---------- Validation ----------\n",
    "        model.eval()\n",
    "        val_loss = 0.0\n",
    "        val_corrects = 0\n",
    "\n",
    "        with torch.no_grad():\n",
    "            for inputs, labels in val_dl:\n",
    "                inputs = inputs.to(device)\n",
    "                labels = labels.to(device)\n",
    "\n",
    "                outputs = model(inputs)\n",
    "                loss = criterion(outputs, labels)\n",
    "\n",
    "                val_loss += loss.item() * inputs.size(0)\n",
    "                _, preds = torch.max(outputs, 1)\n",
    "                val_corrects += (preds == labels).sum().item()\n",
    "\n",
    "        epoch_val_loss = val_loss / len(val_dl.dataset)\n",
    "        epoch_val_acc = val_corrects / len(val_dl.dataset)\n",
    "\n",
    "        logs['val_loss'] = epoch_val_loss\n",
    "        logs['val_accuracy'] = epoch_val_acc\n",
    "\n",
    "        # Atualizar scheduler, se existir\n",
    "        if scheduler:\n",
    "            scheduler.step(epoch_val_loss)\n",
    "\n",
    "        # Plot dos logs\n",
    "        liveloss.update(logs)\n",
    "        liveloss.send()\n",
    "\n",
    "    torch.save(model.state_dict(), model_path)\n"
   ]
  },
  {
   "cell_type": "markdown",
   "id": "d741e217-29b6-4473-982a-935d312a9734",
   "metadata": {},
   "source": [
    "#### 4.1 Hiper-parameters"
   ]
  },
  {
   "cell_type": "code",
   "execution_count": 141,
   "id": "0c5bdd44-f345-4feb-a371-71b91cbec50a",
   "metadata": {},
   "outputs": [],
   "source": [
    "# Class weigths\n",
    "all_labels = [int(label.item()) if torch.is_tensor(label) else int(label) for _, label in train_dl_all.dataset]\n",
    "\n",
    "label_counts = Counter(all_labels)\n",
    "total = sum(label_counts.values())\n",
    "\n",
    "num_classes = 4\n",
    "class_weights = [total / max(label_counts.get(i, 1), 1) for i in range(num_classes)]\n",
    "class_weights_tensor = torch.tensor(class_weights, dtype=torch.float).to(device)\n",
    "CRITERION = CrossEntropyLoss(weight=class_weights_tensor)"
   ]
  },
  {
   "cell_type": "code",
   "execution_count": 38,
   "id": "6cca2d17-4d91-45c0-a445-2c73b83b2973",
   "metadata": {},
   "outputs": [],
   "source": [
    "CRITERION = CrossEntropyLoss()\n",
    "EPOCHS = 20\n",
    "LEARNING_RATE = 0.001\n",
    "OPTIMIZER = Adam(model.parameters(), LEARNING_RATE)\n",
    "# SCHEDULER = ReduceLROnPlateau(OPTIMIZER, mode='min', factor=0.5, patience=3)"
   ]
  },
  {
   "cell_type": "code",
   "execution_count": 40,
   "id": "33596fb7-a4c1-4d19-ad1f-7ddd291f1e28",
   "metadata": {},
   "outputs": [
    {
     "data": {
      "image/png": "[encoded data removed]",
      "text/plain": [
       "<Figure size 1200x800 with 2 Axes>"
      ]
     },
     "metadata": {},
     "output_type": "display_data"
    },
    {
     "name": "stdout",
     "output_type": "stream",
     "text": [
      "accuracy\n",
      "\ttraining         \t (min:    0.271, max:    0.801, cur:    0.796)\n",
      "\tvalidation       \t (min:    0.355, max:    0.581, cur:    0.452)\n",
      "Loss\n",
      "\ttraining         \t (min:    0.499, max:    1.339, cur:    0.499)\n",
      "\tvalidation       \t (min:    1.087, max:    2.427, cur:    1.998)\n"
     ]
    }
   ],
   "source": [
    "train_model(\n",
    "    model=model,\n",
    "    model_path=\"grs_02_model.pth\",\n",
    "    train_dl=train_dl,\n",
    "    val_dl=val_dl,\n",
    "    criterion=CRITERION,\n",
    "    optimizer=OPTIMIZER,\n",
    "    # scheduler=SCHEDULER,\n",
    "    device=device,\n",
    "    num_epochs=EPOCHS,\n",
    ")"
   ]
  },
  {
   "cell_type": "markdown",
   "id": "1ea16c30-c915-416b-85a1-d6d66801bae6",
   "metadata": {},
   "source": [
    "### 5. Model Evaluation"
   ]
  },
  {
   "cell_type": "markdown",
   "id": "76fbd8dc-b92f-41f6-b0df-f5c6415e5f36",
   "metadata": {},
   "source": [
    "#### Calculated Metrics\n",
    " - F1-Score\n",
    " - Accuracy\n",
    " - Expected Cost"
   ]
  },
  {
   "cell_type": "code",
   "execution_count": null,
   "id": "6b19b438-6032-4ed1-9b7e-75babf991b98",
   "metadata": {},
   "outputs": [
    {
     "name": "stdout",
     "output_type": "stream",
     "text": [
      "Saved ground truth to ./results/ground_truth.csv\n"
     ]
    }
   ],
   "source": [
    "# Export Ground Truth\n",
    "os.makedirs(OUTPUT_FOLDER, exist_ok=True)\n",
    "\n",
    "subset = test_dl_all.dataset\n",
    "base_dataset = subset.dataset\n",
    "indices = subset.indices\n",
    "\n",
    "all_video_ids = list(base_dataset.videos.keys())\n",
    "video_ids = [all_video_ids[i] for i in indices]\n",
    "\n",
    "labels = [int(label) + 1 for _, label in test_dl_all.dataset]  # +1 to convert to [1–4]\n",
    "\n",
    "df = pd.DataFrame({\n",
    "    \"VIDEO\": video_ids,\n",
    "    \"GRS\": labels\n",
    "})\n",
    "\n",
    "output_path = os.path.join(OUTPUT_FOLDER, \"ground_truth.csv\")\n",
    "df.to_csv(output_path, index=False)\n",
    "print(f\"Saved ground truth to {output_path}\")"
   ]
  },
  {
   "cell_type": "code",
   "execution_count": null,
   "id": "8555e493-0d38-4738-9873-f916ec89ea83",
   "metadata": {},
   "outputs": [],
   "source": [
    "# Predict to .csv\n",
    "def predict_and_export_csv(model_path: str, dataloader, model_class, model_name: str, batch_size=4):\n",
    "    model = model_class().to(device)\n",
    "    model.load_state_dict(torch.load(model_path, map_location=device))\n",
    "    model.eval()\n",
    "\n",
    "    subset = dataloader.dataset\n",
    "    base_dataset = subset.dataset\n",
    "    indices = subset.indices\n",
    "\n",
    "    video_names = list(base_dataset.videos.keys())\n",
    "    video_ids = [video_names[i] for i in indices]\n",
    "\n",
    "    all_inputs = [base_dataset[i][0] for i in indices]\n",
    "\n",
    "    preds = []\n",
    "\n",
    "    with torch.no_grad():\n",
    "        for i in range(0, len(all_inputs), batch_size):\n",
    "            batch_inputs = torch.stack(all_inputs[i:i+batch_size]).to(device)\n",
    "            outputs = model(batch_inputs)\n",
    "            _, predicted = torch.max(outputs, dim=1)\n",
    "            preds.extend(predicted.cpu().numpy())\n",
    "\n",
    "    # Convert to [1–4]\n",
    "    preds = [int(p) + 1 for p in preds]\n",
    "\n",
    "    df = pd.DataFrame({\n",
    "        \"VIDEO\": video_ids,\n",
    "        \"GRS\": preds\n",
    "    })\n",
    "\n",
    "    os.makedirs(OUTPUT_FOLDER, exist_ok=True)\n",
    "    output_path = os.path.join(OUTPUT_FOLDER, f\"{model_name}_results.csv\")\n",
    "    df.to_csv(output_path, index=False)\n",
    "    print(f\"✅ Saved predictions to {output_path}\")\n"
   ]
  },
  {
   "cell_type": "code",
   "execution_count": null,
   "id": "05ff4038-722c-4528-ad28-280c5241e835",
   "metadata": {},
   "outputs": [
    {
     "name": "stdout",
     "output_type": "stream",
     "text": [
      "✅ Saved predictions to ./results/grs_02_results.csv\n"
     ]
    }
   ],
   "source": [
    "# Predict and export results\n",
    "predict_and_export_csv(model_path=\"grs_02_model.pth\", dataloader=test_dl_all, model_class=GRSModel_02, model_name=\"grs_02\")"
   ]
  },
  {
   "cell_type": "markdown",
   "id": "0dfcc49b-f182-4416-9e29-136d192bd450",
   "metadata": {},
   "source": [
    "#### It is not possible to run the file provided by the teachers, we will calculate the metrics manually"
   ]
  },
  {
   "cell_type": "code",
   "execution_count": 47,
   "id": "d9ba944e-ccc7-4eb7-b359-1c27ea0b77d9",
   "metadata": {},
   "outputs": [
    {
     "name": "stdout",
     "output_type": "stream",
     "text": [
      "F1-score (macro / DSC): 0.4124\n",
      "Expected Cost: 0.5161\n"
     ]
    },
    {
     "data": {
      "image/png": "[encoded data removed]",
      "text/plain": [
       "<Figure size 600x500 with 2 Axes>"
      ]
     },
     "metadata": {},
     "output_type": "display_data"
    }
   ],
   "source": [
    "GROUND_TRUTH_PATH = \"results/ground_truth.csv\"\n",
    "PREDICTIONS_PATH = \"results/grs_02_results.csv\"\n",
    "NUM_CLASSES = 4\n",
    "\n",
    "df_gt = pd.read_csv(GROUND_TRUTH_PATH)\n",
    "df_pred = pd.read_csv(PREDICTIONS_PATH)\n",
    "\n",
    "# Merge\n",
    "df = pd.merge(df_gt, df_pred, on=\"VIDEO\", suffixes=('_gt', '_pred'))\n",
    "df = df.rename(columns={\"GRS_gt\": \"ground_truth\", \"GRS_pred\": \"prediction\"})\n",
    "\n",
    "# [1-4] -> [0-3]\n",
    "df[[\"ground_truth\", \"prediction\"]] = df[[\"ground_truth\", \"prediction\"]] - 1\n",
    "\n",
    "# F1 macro\n",
    "f1 = f1_score(df[\"ground_truth\"], df[\"prediction\"], average='macro')\n",
    "print(f\"F1-score (macro / DSC): {f1:.4f}\")\n",
    "\n",
    "# Expected Cost\n",
    "cost_matrix = [[abs(i - j) for j in range(NUM_CLASSES)] for i in range(NUM_CLASSES)]\n",
    "expected_cost = np.mean([\n",
    "    cost_matrix[gt][pred]\n",
    "    for gt, pred in zip(df[\"ground_truth\"], df[\"prediction\"])\n",
    "])\n",
    "print(f\"Expected Cost: {expected_cost:.4f}\")\n",
    "\n",
    "# Confusion Matrix \n",
    "cm = confusion_matrix(df[\"ground_truth\"], df[\"prediction\"])\n",
    "class_names = [\"Novice\", \"Intermediate\", \"Proficient\", \"Specialist\"]\n",
    "\n",
    "plt.figure(figsize=(6, 5))\n",
    "sns.heatmap(cm, annot=True, fmt='d', cmap='Blues',\n",
    "            xticklabels=class_names, yticklabels=class_names)\n",
    "plt.xlabel(\"Predicted\")\n",
    "plt.ylabel(\"True\")\n",
    "plt.title(\"Confusion Matrix\")\n",
    "plt.show()"
   ]
  },
  {
   "cell_type": "code",
   "execution_count": null,
   "id": "b7d3dca1-6143-477a-8df2-cf35f190997e",
   "metadata": {},
   "outputs": [],
   "source": []
  }
 ],
 "metadata": {
  "kernelspec": {
   "display_name": "Python 3 (ipykernel)",
   "language": "python",
   "name": "python3"
  },
  "language_info": {
   "codemirror_mode": {
    "name": "ipython",
    "version": 3
   },
   "file_extension": ".py",
   "mimetype": "text/x-python",
   "name": "python",
   "nbconvert_exporter": "python",
   "pygments_lexer": "ipython3",
   "version": "3.10.16"
  }
 },
 "nbformat": 4,
 "nbformat_minor": 5
}
